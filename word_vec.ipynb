{
  "nbformat": 4,
  "nbformat_minor": 0,
  "metadata": {
    "colab": {
      "provenance": []
    },
    "kernelspec": {
      "name": "python3",
      "display_name": "Python 3"
    },
    "language_info": {
      "name": "python"
    }
  },
  "cells": [
    {
      "cell_type": "code",
      "source": [
        "import gensim.downloader as api"
      ],
      "metadata": {
        "id": "MpiAXvMusyb2"
      },
      "execution_count": null,
      "outputs": []
    },
    {
      "cell_type": "code",
      "source": [
        "model = api.load('word2vec-google-news-300')"
      ],
      "metadata": {
        "id": "LGfIcWTxtUQx"
      },
      "execution_count": null,
      "outputs": []
    },
    {
      "cell_type": "code",
      "source": [
        "word_vectors = model"
      ],
      "metadata": {
        "id": "Eo7tvFZwtUUJ"
      },
      "execution_count": null,
      "outputs": []
    },
    {
      "cell_type": "code",
      "source": [
        "print(word_vectors['AIDS'])"
      ],
      "metadata": {
        "id": "jzj0rCxQtUX5"
      },
      "execution_count": null,
      "outputs": []
    }
  ]
}