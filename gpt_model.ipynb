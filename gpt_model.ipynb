{
 "cells": [
  {
   "cell_type": "code",
   "execution_count": 11,
   "metadata": {},
   "outputs": [],
   "source": [
    "GPT_CONFIG_124M = {\n",
    "    \"vocab_size\": 50257,\n",
    "    \"context_length\": 1024,\n",
    "    \"emb_dim\": 768,\n",
    "    \"n_heads\": 12,\n",
    "    \"n_layers\": 12,\n",
    "    \"drop_rate\": 0.1,\n",
    "    \"qkv_bias\": False\n",
    "}"
   ]
  },
  {
   "cell_type": "code",
   "execution_count": 15,
   "metadata": {},
   "outputs": [],
   "source": [
    "import torch\n",
    "import torch.nn as nn\n",
    "\n",
    "class GPTModel(nn.Module):\n",
    "    def __init__(self, config):\n",
    "        super().__init__()\n",
    "        self.tok_emb = nn.Embedding(config['vocab_size'], config['emb_dim'])\n",
    "        self.pos_emb = nn.Embedding(config['context_length'], config['emb_dim'])\n",
    "        self.drop_emb = nn.Dropout(config['drop_rate'])\n",
    "\n",
    "        self.transformer_blocks = nn.Sequential(*[TransformerBlock(config) for _ in range(config['n_layers'])])\n",
    "\n",
    "        self.layer_norm = LayerNorm(config['emb_dim'])\n",
    "\n",
    "        self.head_out = nn.Linear(config['emb_dim'], config['vocab_size'], bias = False)\n",
    "\n",
    "    def forward(self, xx):\n",
    "        batch_size, seq_len = xx.shape\n",
    "        tok_embeds = self.tok_emb(xx)\n",
    "        pos_embeds = self.pos_emb(torch.arange(seq_len))\n",
    "        x = tok_embeds + pos_embeds\n",
    "        x = self.drop_emb(x)\n",
    "        x = self.transformer_blocks(x)\n",
    "        x = self.layer_norm(x)\n",
    "        logits = self.head_out(x)\n",
    "        return logits\n",
    "    \n",
    "class TransformerBlock(nn.Module):\n",
    "    def __init__(self, config):\n",
    "        super().__init__()\n",
    "\n",
    "    def forward(self, x):\n",
    "        return x\n",
    "    \n",
    "class LayerNorm(nn.Module):\n",
    "    def __init__(self, norm_shape, eps = 1e-5):\n",
    "        super().__init__()\n",
    "    \n",
    "    def forward(self, x):\n",
    "        return x\n"
   ]
  },
  {
   "cell_type": "code",
   "execution_count": 16,
   "metadata": {},
   "outputs": [
    {
     "name": "stdout",
     "output_type": "stream",
     "text": [
      "tensor([[15496,    11,   703,   389,   345,    30],\n",
      "        [   40,   716,  3734,    11,  5176,     0]])\n"
     ]
    }
   ],
   "source": [
    "import tiktoken\n",
    "tokenizer = tiktoken.get_encoding(\"gpt2\")\n",
    "batch = []\n",
    "txt1 = \"Hello, how are you?\"\n",
    "txt2 = \"I am fine, thanks!\"\n",
    "batch.append(torch.tensor(tokenizer.encode(txt1)))\n",
    "batch.append(torch.tensor(tokenizer.encode(txt2)))\n",
    "batch = torch.stack(batch, dim= 0)\n",
    "print(batch)"
   ]
  },
  {
   "cell_type": "code",
   "execution_count": 18,
   "metadata": {},
   "outputs": [
    {
     "name": "stdout",
     "output_type": "stream",
     "text": [
      "Shape of logits : torch.Size([2, 6, 50257])\n",
      "Output : tensor([[[ 0.0260, -0.5017,  0.6300,  ...,  0.2579,  0.3621, -0.6037],\n",
      "         [ 0.0517,  0.9177,  0.3329,  ...,  0.6093,  0.6525,  0.4799],\n",
      "         [-0.2801,  1.5910, -0.2096,  ...,  0.8286,  0.4935,  0.3478],\n",
      "         [ 0.1519, -0.4870,  0.5011,  ...,  1.4466,  0.9413, -0.6668],\n",
      "         [-0.1582,  0.9116,  0.2306,  ..., -0.5324, -0.6255, -1.4752],\n",
      "         [ 0.3110,  0.0433, -0.9300,  ...,  1.0326, -0.1965,  0.3757]],\n",
      "\n",
      "        [[ 1.0382, -0.9600,  0.0945,  ..., -0.4391,  0.7693, -0.1641],\n",
      "         [-0.5969,  1.1909, -0.2815,  ..., -0.8720,  0.0031,  1.6365],\n",
      "         [ 0.1155,  1.4155,  0.8472,  ...,  0.4151, -0.3077, -1.4271],\n",
      "         [ 0.7789,  0.9885, -0.5383,  ...,  1.8615, -0.0282, -0.4208],\n",
      "         [-1.1761,  0.2301,  1.0036,  ...,  0.0968, -0.7587, -0.6880],\n",
      "         [ 0.5010,  0.3575,  0.5404,  ...,  1.2885, -0.4144, -0.1635]]],\n",
      "       grad_fn=<UnsafeViewBackward0>)\n"
     ]
    }
   ],
   "source": [
    "torch.manual_seed(123)\n",
    "model = GPTModel(GPT_CONFIG_124M)\n",
    "logits = model(batch)\n",
    "print(\"Shape of logits :\", logits.shape)\n",
    "print(\"Output :\", logits)"
   ]
  },
  {
   "cell_type": "code",
   "execution_count": null,
   "metadata": {},
   "outputs": [],
   "source": []
  }
 ],
 "metadata": {
  "kernelspec": {
   "display_name": "Python 3",
   "language": "python",
   "name": "python3"
  },
  "language_info": {
   "codemirror_mode": {
    "name": "ipython",
    "version": 3
   },
   "file_extension": ".py",
   "mimetype": "text/x-python",
   "name": "python",
   "nbconvert_exporter": "python",
   "pygments_lexer": "ipython3",
   "version": "3.12.6"
  }
 },
 "nbformat": 4,
 "nbformat_minor": 2
}
